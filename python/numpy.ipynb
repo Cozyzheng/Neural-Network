{
 "cells": [
  {
   "cell_type": "code",
   "execution_count": 1,
   "metadata": {},
   "outputs": [
    {
     "output_type": "stream",
     "name": "stdout",
     "text": "[1 2 3 4] [['1' 't']\n ['2' 'j']\n ['3' 'k']\n ['4' 'f']]\n[10  1  2  3  4  5  6  7  8  9]\n"
    }
   ],
   "source": [
    "import numpy as np\n",
    "\n",
    "#矩阵求逆\n",
    "from numpy import linalg as lg  \n",
    "\n",
    "# define a vector\n",
    "vector = np.array([1,2,3,4])\n",
    "\n",
    "# define a matrix\n",
    "matrix = np.array([[1,'t'], [2, 'j'], [3, 'k'], [4,'f']])\n",
    "\n",
    "print(vector, matrix)\n",
    "\n",
    "# define a vector by list \n",
    "nparray = np.array([i for i in range(10)])\n",
    "\n",
    "nparray[0] = 10 \n",
    "print(nparray)"
   ]
  },
  {
   "cell_type": "code",
   "execution_count": null,
   "metadata": {},
   "outputs": [],
   "source": [
    "a = np.zeros(10)\n",
    "print(a)\n",
    "a.dtype # default float64 \n",
    "\n",
    "np.zeros(10, dtype=int)\n",
    "\n",
    "# create n-d array with value equals 0\n",
    "np.zeros(shape = (3,4))\n",
    "\n",
    "# create n-d array with value equals 1 \n",
    "np.ones(shape = (3,4))\n",
    "\n",
    "# create n-d array with value equals k\n",
    "np.full((3,4), 128) # 自定义数组\n",
    "\n",
    "np.arange(0, 20, 2)  # 与Python中的range方法相似，arange也是前闭后开的方法\n",
    "\n",
    "np.linspace(0, 10, 5) # （前闭后闭）来对Numpy矩阵进行等分"
   ]
  },
  {
   "cell_type": "code",
   "execution_count": null,
   "metadata": {},
   "outputs": [],
   "source": [
    "# create random array \n",
    "np.random.randint(0, 10, size = 10)\n",
    "np.random.randint(0, 99, (5,5))\n",
    "np.random.seed(1)\n",
    "\n",
    "# create random array from 0 to 1\n",
    "np.random.random((5,5,5))\n",
    "\n",
    "# create random array from normal distribution\n",
    "np.random.normal(0, 1, 10)\n",
    "\n",
    "a = np.arange(15).reshape(3,5)\n",
    "print(a.shape) # return a tuple\n",
    "# a.reshape(15,-1) # row\n",
    "# a.reshape(-1,15) # column\n",
    "\n",
    "b = np.array([[1,2,3],[4,5,6],[7,8,9]])\n",
    "b[:,1] # 左闭右开\n",
    "b[0:2, 2] \n",
    "b[0, 1:3] "
   ]
  },
  {
   "cell_type": "code",
   "execution_count": null,
   "metadata": {},
   "outputs": [],
   "source": [
    "# matrix manipulation/operation\n",
    "# 矩阵运算\n",
    "myones = np.ones((3,3))\n",
    "myeye = np.eye(3) # 生成n维单位矩阵\n",
    "print(myeye)\n",
    "print(myones - myeye)\n",
    "\n",
    "mymatrix = np.array([[1,2,3],[4,5,6]])\n",
    "a = np.array([[1,2],[3,4],[5,6]])\n",
    "print(mymatrix.shape[1] == a.shape[0]) #确认第一个矩阵列数 == 第二个矩阵行数\n",
    "print(a.dot(mymatrix))\n",
    "\n",
    "a = np.array([[1,2],[3,4]]) #求逆矩阵需要 行列相等\n",
    "Inva = lg.inv(a)\n",
    "print(a.dot(Inva))\n",
    "print(Inva.dot(a).astype(int)) # 数据类型转换\n",
    "\n",
    "mymatrix\n",
    "print(mymatrix.sum(axis=0)) #简单的统计"
   ]
  },
  {
   "cell_type": "code",
   "execution_count": null,
   "metadata": {},
   "outputs": [],
   "source": [
    "# arg返回索引\n",
    "index = np.argmax([1,2,3,4,5]) \n",
    "print(index) # 从0开始噢，返回最大数字对应的索引\n",
    "\n",
    "x = np.arange(15)\n",
    "print(x)\n",
    "np.random.shuffle(x) # 注意一下这里，随机打乱\n",
    "print(x)\n",
    "# arg返回 排序（从小到大）的索引\n",
    "sx = np.argsort(x)\n",
    "print(sx)"
   ]
  },
  {
   "cell_type": "code",
   "execution_count": null,
   "metadata": {},
   "outputs": [],
   "source": [
    "# 用数组索引另一个数组，相当于使用索引值，重新创建数组\n",
    "x = np.arange(15)\n",
    "ind = np.array([[9,1,3,4],[4,5,6,7],[1,4,5,6]])\n",
    "print(x[ind])\n",
    "\n",
    "# 索引二维数组\n",
    "y = np.arange(16)\n",
    "y = y.reshape(4,-1)\n",
    "print(y)\n",
    "row = np.array([0,1,3])\n",
    "column = np.array([1,2,3])\n",
    "print('---')\n",
    "print(y[row, column]) # 取对应的点\n",
    "print(y[1:3, column]) # 取index为1，2行，对应的column点"
   ]
  },
  {
   "cell_type": "code",
   "execution_count": 2,
   "metadata": {},
   "outputs": [
    {
     "output_type": "display_data",
     "data": {
      "text/plain": "<Figure size 432x288 with 1 Axes>",
      "image/svg+xml": "<?xml version=\"1.0\" encoding=\"utf-8\" standalone=\"no\"?>\n<!DOCTYPE svg PUBLIC \"-//W3C//DTD SVG 1.1//EN\"\n  \"http://www.w3.org/Graphics/SVG/1.1/DTD/svg11.dtd\">\n<!-- Created with matplotlib (https://matplotlib.org/) -->\n<svg height=\"248.518125pt\" version=\"1.1\" viewBox=\"0 0 362.5625 248.518125\" width=\"362.5625pt\" xmlns=\"http://www.w3.org/2000/svg\" xmlns:xlink=\"http://www.w3.org/1999/xlink\">\n <defs>\n  <style type=\"text/css\">\n*{stroke-linecap:butt;stroke-linejoin:round;}\n  </style>\n </defs>\n <g id=\"figure_1\">\n  <g id=\"patch_1\">\n   <path d=\"M 0 248.518125 \nL 362.5625 248.518125 \nL 362.5625 0 \nL 0 0 \nz\n\" style=\"fill:none;\"/>\n  </g>\n  <g id=\"axes_1\">\n   <g id=\"patch_2\">\n    <path d=\"M 20.5625 224.64 \nL 355.3625 224.64 \nL 355.3625 7.2 \nL 20.5625 7.2 \nz\n\" style=\"fill:#ffffff;\"/>\n   </g>\n   <g id=\"matplotlib.axis_1\">\n    <g id=\"xtick_1\">\n     <g id=\"line2d_1\">\n      <defs>\n       <path d=\"M 0 0 \nL 0 3.5 \n\" id=\"mc3dcdf1070\" style=\"stroke:#000000;stroke-width:0.8;\"/>\n      </defs>\n      <g>\n       <use style=\"stroke:#000000;stroke-width:0.8;\" x=\"35.777632\" xlink:href=\"#mc3dcdf1070\" y=\"224.64\"/>\n      </g>\n     </g>\n     <g id=\"text_1\">\n      <!-- 0.0 -->\n      <defs>\n       <path d=\"M 31.78125 66.40625 \nQ 24.171875 66.40625 20.328125 58.90625 \nQ 16.5 51.421875 16.5 36.375 \nQ 16.5 21.390625 20.328125 13.890625 \nQ 24.171875 6.390625 31.78125 6.390625 \nQ 39.453125 6.390625 43.28125 13.890625 \nQ 47.125 21.390625 47.125 36.375 \nQ 47.125 51.421875 43.28125 58.90625 \nQ 39.453125 66.40625 31.78125 66.40625 \nz\nM 31.78125 74.21875 \nQ 44.046875 74.21875 50.515625 64.515625 \nQ 56.984375 54.828125 56.984375 36.375 \nQ 56.984375 17.96875 50.515625 8.265625 \nQ 44.046875 -1.421875 31.78125 -1.421875 \nQ 19.53125 -1.421875 13.0625 8.265625 \nQ 6.59375 17.96875 6.59375 36.375 \nQ 6.59375 54.828125 13.0625 64.515625 \nQ 19.53125 74.21875 31.78125 74.21875 \nz\n\" id=\"DejaVuSans-48\"/>\n       <path d=\"M 10.6875 12.40625 \nL 21 12.40625 \nL 21 0 \nL 10.6875 0 \nz\n\" id=\"DejaVuSans-46\"/>\n      </defs>\n      <g transform=\"translate(27.82607 239.238437)scale(0.1 -0.1)\">\n       <use xlink:href=\"#DejaVuSans-48\"/>\n       <use x=\"63.623047\" xlink:href=\"#DejaVuSans-46\"/>\n       <use x=\"95.410156\" xlink:href=\"#DejaVuSans-48\"/>\n      </g>\n     </g>\n    </g>\n    <g id=\"xtick_2\">\n     <g id=\"line2d_2\">\n      <g>\n       <use style=\"stroke:#000000;stroke-width:0.8;\" x=\"96.773204\" xlink:href=\"#mc3dcdf1070\" y=\"224.64\"/>\n      </g>\n     </g>\n     <g id=\"text_2\">\n      <!-- 0.2 -->\n      <defs>\n       <path d=\"M 19.1875 8.296875 \nL 53.609375 8.296875 \nL 53.609375 0 \nL 7.328125 0 \nL 7.328125 8.296875 \nQ 12.9375 14.109375 22.625 23.890625 \nQ 32.328125 33.6875 34.8125 36.53125 \nQ 39.546875 41.84375 41.421875 45.53125 \nQ 43.3125 49.21875 43.3125 52.78125 \nQ 43.3125 58.59375 39.234375 62.25 \nQ 35.15625 65.921875 28.609375 65.921875 \nQ 23.96875 65.921875 18.8125 64.3125 \nQ 13.671875 62.703125 7.8125 59.421875 \nL 7.8125 69.390625 \nQ 13.765625 71.78125 18.9375 73 \nQ 24.125 74.21875 28.421875 74.21875 \nQ 39.75 74.21875 46.484375 68.546875 \nQ 53.21875 62.890625 53.21875 53.421875 \nQ 53.21875 48.921875 51.53125 44.890625 \nQ 49.859375 40.875 45.40625 35.40625 \nQ 44.1875 33.984375 37.640625 27.21875 \nQ 31.109375 20.453125 19.1875 8.296875 \nz\n\" id=\"DejaVuSans-50\"/>\n      </defs>\n      <g transform=\"translate(88.821641 239.238437)scale(0.1 -0.1)\">\n       <use xlink:href=\"#DejaVuSans-48\"/>\n       <use x=\"63.623047\" xlink:href=\"#DejaVuSans-46\"/>\n       <use x=\"95.410156\" xlink:href=\"#DejaVuSans-50\"/>\n      </g>\n     </g>\n    </g>\n    <g id=\"xtick_3\">\n     <g id=\"line2d_3\">\n      <g>\n       <use style=\"stroke:#000000;stroke-width:0.8;\" x=\"157.768775\" xlink:href=\"#mc3dcdf1070\" y=\"224.64\"/>\n      </g>\n     </g>\n     <g id=\"text_3\">\n      <!-- 0.4 -->\n      <defs>\n       <path d=\"M 37.796875 64.3125 \nL 12.890625 25.390625 \nL 37.796875 25.390625 \nz\nM 35.203125 72.90625 \nL 47.609375 72.90625 \nL 47.609375 25.390625 \nL 58.015625 25.390625 \nL 58.015625 17.1875 \nL 47.609375 17.1875 \nL 47.609375 0 \nL 37.796875 0 \nL 37.796875 17.1875 \nL 4.890625 17.1875 \nL 4.890625 26.703125 \nz\n\" id=\"DejaVuSans-52\"/>\n      </defs>\n      <g transform=\"translate(149.817213 239.238437)scale(0.1 -0.1)\">\n       <use xlink:href=\"#DejaVuSans-48\"/>\n       <use x=\"63.623047\" xlink:href=\"#DejaVuSans-46\"/>\n       <use x=\"95.410156\" xlink:href=\"#DejaVuSans-52\"/>\n      </g>\n     </g>\n    </g>\n    <g id=\"xtick_4\">\n     <g id=\"line2d_4\">\n      <g>\n       <use style=\"stroke:#000000;stroke-width:0.8;\" x=\"218.764347\" xlink:href=\"#mc3dcdf1070\" y=\"224.64\"/>\n      </g>\n     </g>\n     <g id=\"text_4\">\n      <!-- 0.6 -->\n      <defs>\n       <path d=\"M 33.015625 40.375 \nQ 26.375 40.375 22.484375 35.828125 \nQ 18.609375 31.296875 18.609375 23.390625 \nQ 18.609375 15.53125 22.484375 10.953125 \nQ 26.375 6.390625 33.015625 6.390625 \nQ 39.65625 6.390625 43.53125 10.953125 \nQ 47.40625 15.53125 47.40625 23.390625 \nQ 47.40625 31.296875 43.53125 35.828125 \nQ 39.65625 40.375 33.015625 40.375 \nz\nM 52.59375 71.296875 \nL 52.59375 62.3125 \nQ 48.875 64.0625 45.09375 64.984375 \nQ 41.3125 65.921875 37.59375 65.921875 \nQ 27.828125 65.921875 22.671875 59.328125 \nQ 17.53125 52.734375 16.796875 39.40625 \nQ 19.671875 43.65625 24.015625 45.921875 \nQ 28.375 48.1875 33.59375 48.1875 \nQ 44.578125 48.1875 50.953125 41.515625 \nQ 57.328125 34.859375 57.328125 23.390625 \nQ 57.328125 12.15625 50.6875 5.359375 \nQ 44.046875 -1.421875 33.015625 -1.421875 \nQ 20.359375 -1.421875 13.671875 8.265625 \nQ 6.984375 17.96875 6.984375 36.375 \nQ 6.984375 53.65625 15.1875 63.9375 \nQ 23.390625 74.21875 37.203125 74.21875 \nQ 40.921875 74.21875 44.703125 73.484375 \nQ 48.484375 72.75 52.59375 71.296875 \nz\n\" id=\"DejaVuSans-54\"/>\n      </defs>\n      <g transform=\"translate(210.812784 239.238437)scale(0.1 -0.1)\">\n       <use xlink:href=\"#DejaVuSans-48\"/>\n       <use x=\"63.623047\" xlink:href=\"#DejaVuSans-46\"/>\n       <use x=\"95.410156\" xlink:href=\"#DejaVuSans-54\"/>\n      </g>\n     </g>\n    </g>\n    <g id=\"xtick_5\">\n     <g id=\"line2d_5\">\n      <g>\n       <use style=\"stroke:#000000;stroke-width:0.8;\" x=\"279.759919\" xlink:href=\"#mc3dcdf1070\" y=\"224.64\"/>\n      </g>\n     </g>\n     <g id=\"text_5\">\n      <!-- 0.8 -->\n      <defs>\n       <path d=\"M 31.78125 34.625 \nQ 24.75 34.625 20.71875 30.859375 \nQ 16.703125 27.09375 16.703125 20.515625 \nQ 16.703125 13.921875 20.71875 10.15625 \nQ 24.75 6.390625 31.78125 6.390625 \nQ 38.8125 6.390625 42.859375 10.171875 \nQ 46.921875 13.96875 46.921875 20.515625 \nQ 46.921875 27.09375 42.890625 30.859375 \nQ 38.875 34.625 31.78125 34.625 \nz\nM 21.921875 38.8125 \nQ 15.578125 40.375 12.03125 44.71875 \nQ 8.5 49.078125 8.5 55.328125 \nQ 8.5 64.0625 14.71875 69.140625 \nQ 20.953125 74.21875 31.78125 74.21875 \nQ 42.671875 74.21875 48.875 69.140625 \nQ 55.078125 64.0625 55.078125 55.328125 \nQ 55.078125 49.078125 51.53125 44.71875 \nQ 48 40.375 41.703125 38.8125 \nQ 48.828125 37.15625 52.796875 32.3125 \nQ 56.78125 27.484375 56.78125 20.515625 \nQ 56.78125 9.90625 50.3125 4.234375 \nQ 43.84375 -1.421875 31.78125 -1.421875 \nQ 19.734375 -1.421875 13.25 4.234375 \nQ 6.78125 9.90625 6.78125 20.515625 \nQ 6.78125 27.484375 10.78125 32.3125 \nQ 14.796875 37.15625 21.921875 38.8125 \nz\nM 18.3125 54.390625 \nQ 18.3125 48.734375 21.84375 45.5625 \nQ 25.390625 42.390625 31.78125 42.390625 \nQ 38.140625 42.390625 41.71875 45.5625 \nQ 45.3125 48.734375 45.3125 54.390625 \nQ 45.3125 60.0625 41.71875 63.234375 \nQ 38.140625 66.40625 31.78125 66.40625 \nQ 25.390625 66.40625 21.84375 63.234375 \nQ 18.3125 60.0625 18.3125 54.390625 \nz\n\" id=\"DejaVuSans-56\"/>\n      </defs>\n      <g transform=\"translate(271.808356 239.238437)scale(0.1 -0.1)\">\n       <use xlink:href=\"#DejaVuSans-48\"/>\n       <use x=\"63.623047\" xlink:href=\"#DejaVuSans-46\"/>\n       <use x=\"95.410156\" xlink:href=\"#DejaVuSans-56\"/>\n      </g>\n     </g>\n    </g>\n    <g id=\"xtick_6\">\n     <g id=\"line2d_6\">\n      <g>\n       <use style=\"stroke:#000000;stroke-width:0.8;\" x=\"340.75549\" xlink:href=\"#mc3dcdf1070\" y=\"224.64\"/>\n      </g>\n     </g>\n     <g id=\"text_6\">\n      <!-- 1.0 -->\n      <defs>\n       <path d=\"M 12.40625 8.296875 \nL 28.515625 8.296875 \nL 28.515625 63.921875 \nL 10.984375 60.40625 \nL 10.984375 69.390625 \nL 28.421875 72.90625 \nL 38.28125 72.90625 \nL 38.28125 8.296875 \nL 54.390625 8.296875 \nL 54.390625 0 \nL 12.40625 0 \nz\n\" id=\"DejaVuSans-49\"/>\n      </defs>\n      <g transform=\"translate(332.803928 239.238437)scale(0.1 -0.1)\">\n       <use xlink:href=\"#DejaVuSans-49\"/>\n       <use x=\"63.623047\" xlink:href=\"#DejaVuSans-46\"/>\n       <use x=\"95.410156\" xlink:href=\"#DejaVuSans-48\"/>\n      </g>\n     </g>\n    </g>\n   </g>\n   <g id=\"matplotlib.axis_2\">\n    <g id=\"ytick_1\">\n     <g id=\"line2d_7\">\n      <defs>\n       <path d=\"M 0 0 \nL -3.5 0 \n\" id=\"m68e21c81d1\" style=\"stroke:#000000;stroke-width:0.8;\"/>\n      </defs>\n      <g>\n       <use style=\"stroke:#000000;stroke-width:0.8;\" x=\"20.5625\" xlink:href=\"#m68e21c81d1\" y=\"214.756682\"/>\n      </g>\n     </g>\n     <g id=\"text_7\">\n      <!-- 0 -->\n      <g transform=\"translate(7.2 218.555901)scale(0.1 -0.1)\">\n       <use xlink:href=\"#DejaVuSans-48\"/>\n      </g>\n     </g>\n    </g>\n    <g id=\"ytick_2\">\n     <g id=\"line2d_8\">\n      <g>\n       <use style=\"stroke:#000000;stroke-width:0.8;\" x=\"20.5625\" xlink:href=\"#m68e21c81d1\" y=\"182.938678\"/>\n      </g>\n     </g>\n     <g id=\"text_8\">\n      <!-- 1 -->\n      <g transform=\"translate(7.2 186.737896)scale(0.1 -0.1)\">\n       <use xlink:href=\"#DejaVuSans-49\"/>\n      </g>\n     </g>\n    </g>\n    <g id=\"ytick_3\">\n     <g id=\"line2d_9\">\n      <g>\n       <use style=\"stroke:#000000;stroke-width:0.8;\" x=\"20.5625\" xlink:href=\"#m68e21c81d1\" y=\"151.120673\"/>\n      </g>\n     </g>\n     <g id=\"text_9\">\n      <!-- 2 -->\n      <g transform=\"translate(7.2 154.919892)scale(0.1 -0.1)\">\n       <use xlink:href=\"#DejaVuSans-50\"/>\n      </g>\n     </g>\n    </g>\n    <g id=\"ytick_4\">\n     <g id=\"line2d_10\">\n      <g>\n       <use style=\"stroke:#000000;stroke-width:0.8;\" x=\"20.5625\" xlink:href=\"#m68e21c81d1\" y=\"119.302669\"/>\n      </g>\n     </g>\n     <g id=\"text_10\">\n      <!-- 3 -->\n      <defs>\n       <path d=\"M 40.578125 39.3125 \nQ 47.65625 37.796875 51.625 33 \nQ 55.609375 28.21875 55.609375 21.1875 \nQ 55.609375 10.40625 48.1875 4.484375 \nQ 40.765625 -1.421875 27.09375 -1.421875 \nQ 22.515625 -1.421875 17.65625 -0.515625 \nQ 12.796875 0.390625 7.625 2.203125 \nL 7.625 11.71875 \nQ 11.71875 9.328125 16.59375 8.109375 \nQ 21.484375 6.890625 26.8125 6.890625 \nQ 36.078125 6.890625 40.9375 10.546875 \nQ 45.796875 14.203125 45.796875 21.1875 \nQ 45.796875 27.640625 41.28125 31.265625 \nQ 36.765625 34.90625 28.71875 34.90625 \nL 20.21875 34.90625 \nL 20.21875 43.015625 \nL 29.109375 43.015625 \nQ 36.375 43.015625 40.234375 45.921875 \nQ 44.09375 48.828125 44.09375 54.296875 \nQ 44.09375 59.90625 40.109375 62.90625 \nQ 36.140625 65.921875 28.71875 65.921875 \nQ 24.65625 65.921875 20.015625 65.03125 \nQ 15.375 64.15625 9.8125 62.3125 \nL 9.8125 71.09375 \nQ 15.4375 72.65625 20.34375 73.4375 \nQ 25.25 74.21875 29.59375 74.21875 \nQ 40.828125 74.21875 47.359375 69.109375 \nQ 53.90625 64.015625 53.90625 55.328125 \nQ 53.90625 49.265625 50.4375 45.09375 \nQ 46.96875 40.921875 40.578125 39.3125 \nz\n\" id=\"DejaVuSans-51\"/>\n      </defs>\n      <g transform=\"translate(7.2 123.101888)scale(0.1 -0.1)\">\n       <use xlink:href=\"#DejaVuSans-51\"/>\n      </g>\n     </g>\n    </g>\n    <g id=\"ytick_5\">\n     <g id=\"line2d_11\">\n      <g>\n       <use style=\"stroke:#000000;stroke-width:0.8;\" x=\"20.5625\" xlink:href=\"#m68e21c81d1\" y=\"87.484665\"/>\n      </g>\n     </g>\n     <g id=\"text_11\">\n      <!-- 4 -->\n      <g transform=\"translate(7.2 91.283883)scale(0.1 -0.1)\">\n       <use xlink:href=\"#DejaVuSans-52\"/>\n      </g>\n     </g>\n    </g>\n    <g id=\"ytick_6\">\n     <g id=\"line2d_12\">\n      <g>\n       <use style=\"stroke:#000000;stroke-width:0.8;\" x=\"20.5625\" xlink:href=\"#m68e21c81d1\" y=\"55.66666\"/>\n      </g>\n     </g>\n     <g id=\"text_12\">\n      <!-- 5 -->\n      <defs>\n       <path d=\"M 10.796875 72.90625 \nL 49.515625 72.90625 \nL 49.515625 64.59375 \nL 19.828125 64.59375 \nL 19.828125 46.734375 \nQ 21.96875 47.46875 24.109375 47.828125 \nQ 26.265625 48.1875 28.421875 48.1875 \nQ 40.625 48.1875 47.75 41.5 \nQ 54.890625 34.8125 54.890625 23.390625 \nQ 54.890625 11.625 47.5625 5.09375 \nQ 40.234375 -1.421875 26.90625 -1.421875 \nQ 22.3125 -1.421875 17.546875 -0.640625 \nQ 12.796875 0.140625 7.71875 1.703125 \nL 7.71875 11.625 \nQ 12.109375 9.234375 16.796875 8.0625 \nQ 21.484375 6.890625 26.703125 6.890625 \nQ 35.15625 6.890625 40.078125 11.328125 \nQ 45.015625 15.765625 45.015625 23.390625 \nQ 45.015625 31 40.078125 35.4375 \nQ 35.15625 39.890625 26.703125 39.890625 \nQ 22.75 39.890625 18.8125 39.015625 \nQ 14.890625 38.140625 10.796875 36.28125 \nz\n\" id=\"DejaVuSans-53\"/>\n      </defs>\n      <g transform=\"translate(7.2 59.465879)scale(0.1 -0.1)\">\n       <use xlink:href=\"#DejaVuSans-53\"/>\n      </g>\n     </g>\n    </g>\n    <g id=\"ytick_7\">\n     <g id=\"line2d_13\">\n      <g>\n       <use style=\"stroke:#000000;stroke-width:0.8;\" x=\"20.5625\" xlink:href=\"#m68e21c81d1\" y=\"23.848656\"/>\n      </g>\n     </g>\n     <g id=\"text_13\">\n      <!-- 6 -->\n      <g transform=\"translate(7.2 27.647875)scale(0.1 -0.1)\">\n       <use xlink:href=\"#DejaVuSans-54\"/>\n      </g>\n     </g>\n    </g>\n   </g>\n   <g id=\"line2d_14\">\n    <path clip-path=\"url(#p7fe970d1d2)\" d=\"M 35.780682 214.756364 \nL 60.838732 212.028386 \nL 83.452095 209.348154 \nL 104.231941 206.668819 \nL 123.789444 203.922705 \nL 141.513431 201.211162 \nL 158.015074 198.460374 \nL 172.683201 195.798083 \nL 186.740156 193.019035 \nL 199.574767 190.250506 \nL 211.187035 187.519521 \nL 221.576958 184.859959 \nL 231.355709 182.1359 \nL 240.523289 179.351208 \nL 249.079696 176.512052 \nL 257.024932 173.62761 \nL 263.747823 170.964475 \nL 270.470715 168.057907 \nL 276.582434 165.163367 \nL 282.082982 162.312087 \nL 286.972358 159.543558 \nL 291.861733 156.510979 \nL 296.139937 153.597493 \nL 300.418141 150.390089 \nL 304.085173 147.357509 \nL 307.752204 144.005148 \nL 310.808064 140.913591 \nL 313.863924 137.488998 \nL 316.308612 134.456419 \nL 318.7533 131.104057 \nL 321.197987 127.356436 \nL 323.642675 123.107734 \nL 325.476191 119.501841 \nL 327.309707 115.434438 \nL 329.143223 110.769808 \nL 330.976739 105.301876 \nL 332.199083 101.053174 \nL 333.421427 96.148407 \nL 334.643771 90.347299 \nL 335.866114 83.247316 \nL 337.088458 74.093847 \nL 337.69963 68.292739 \nL 338.310802 61.192756 \nL 338.921974 52.039287 \nL 339.533146 39.138196 \nL 340.144318 17.083636 \nL 340.144318 17.083636 \n\" style=\"fill:none;stroke:#1f77b4;stroke-linecap:square;stroke-width:1.5;\"/>\n   </g>\n   <g id=\"patch_3\">\n    <path d=\"M 20.5625 224.64 \nL 20.5625 7.2 \n\" style=\"fill:none;stroke:#000000;stroke-linecap:square;stroke-linejoin:miter;stroke-width:0.8;\"/>\n   </g>\n   <g id=\"patch_4\">\n    <path d=\"M 355.3625 224.64 \nL 355.3625 7.2 \n\" style=\"fill:none;stroke:#000000;stroke-linecap:square;stroke-linejoin:miter;stroke-width:0.8;\"/>\n   </g>\n   <g id=\"patch_5\">\n    <path d=\"M 20.5625 224.64 \nL 355.3625 224.64 \n\" style=\"fill:none;stroke:#000000;stroke-linecap:square;stroke-linejoin:miter;stroke-width:0.8;\"/>\n   </g>\n   <g id=\"patch_6\">\n    <path d=\"M 20.5625 7.2 \nL 355.3625 7.2 \n\" style=\"fill:none;stroke:#000000;stroke-linecap:square;stroke-linejoin:miter;stroke-width:0.8;\"/>\n   </g>\n  </g>\n </g>\n <defs>\n  <clipPath id=\"p7fe970d1d2\">\n   <rect height=\"217.44\" width=\"334.8\" x=\"20.5625\" y=\"7.2\"/>\n  </clipPath>\n </defs>\n</svg>\n",
      "image/png": "[encoded data removed]"
     },
     "metadata": {
      "needs_background": "light"
     }
    }
   ],
   "source": [
    "import numpy as np \n",
    "from matplotlib import pyplot as plt  \n",
    "\n",
    "def sigmoid(x):\n",
    "    y = 1.0 / (1.0 + np.exp(-x))\n",
    "    return y \n",
    "# plot_x = np.linspace(-10, 10, 1000)\n",
    "# plot_y = sigmoid(plot_x)\n",
    "# plt.plot(plot_x, plot_y)\n",
    "# plt.show\n",
    "\n",
    "def logp(x):\n",
    "    y = -np.log(1 - x)\n",
    "    return y \n",
    "plot_x = np.linspace(0.00001, 1, 500)\n",
    "plot_y = logp(plot_x)\n",
    "plt.plot(plot_x, plot_y)\n",
    "plt.show()"
   ]
  },
  {
   "cell_type": "code",
   "execution_count": 3,
   "metadata": {},
   "outputs": [
    {
     "output_type": "stream",
     "name": "stdout",
     "text": "[0.1 0.2 0.3 0.4 0.5 0.6 0.7 0.8 0.9 1. ]\n[[14. 15. 13.  8.]\n [22. 21. 19. 16.]\n [11. 23. 20.  3.]]\n[[ 0  1  2  3  4  5  6  7  8  9 10 11 12 13 14 15]]\n[ 0  1  2  3  4  5  6  7  8  9 10 11 12 13 14 15]\n(2, 3, 4)\n(3, 4, 2)\n"
    }
   ],
   "source": [
    "print(np.linspace(0.1,1, 10))\n",
    "n = np.arange(1,24)\n",
    "n[0:1] # 左闭又开\n",
    "\n",
    "from numpy import random as nr \n",
    "a = np.arange(1,24, dtype= float)\n",
    "k = nr.choice(a, size= (3,4), replace=False, p = a/np.sum(a))\n",
    "print(k)\n",
    "\n",
    "a = np.arange(16).reshape(1, 16)\n",
    "print(a)\n",
    "print(a.squeeze())\n",
    "\n",
    "arr2 = np.arange(24).reshape(2,3,4)\n",
    "print(arr2.shape)\n",
    "print(arr2.transpose(1,2,0).shape)\n"
   ]
  },
  {
   "cell_type": "code",
   "execution_count": 4,
   "metadata": {},
   "outputs": [
    {
     "output_type": "stream",
     "name": "stdout",
     "text": "(100000, 2, 3)\nthe 0 batch sum is 201.79347917278807\nthe 1000 batch sum is 9.521509996149646\nthe 2000 batch sum is 10.362698094383262\nthe 3000 batch sum is 39.887407949185615\nthe 4000 batch sum is -11.88045652098981\nthe 5000 batch sum is 16.571589843993593\nthe 6000 batch sum is -1.7841415104788325\nthe 7000 batch sum is 40.30483197034583\nthe 8000 batch sum is 31.815339903282773\nthe 9000 batch sum is 20.973436057724115\nthe 10000 batch sum is -55.94223810155306\nthe 11000 batch sum is -66.28581400642392\nthe 12000 batch sum is -132.51311650531468\nthe 13000 batch sum is 18.1103796895382\nthe 14000 batch sum is -49.42867743234792\nthe 15000 batch sum is 31.921278807685717\nthe 16000 batch sum is -18.22519568394236\nthe 17000 batch sum is -10.65636263102469\nthe 18000 batch sum is -25.740952635247837\nthe 19000 batch sum is -80.2892925903802\nthe 20000 batch sum is 95.53546841119163\nthe 21000 batch sum is -108.79467505638647\nthe 22000 batch sum is 58.612151545227\nthe 23000 batch sum is 97.60140272756925\nthe 24000 batch sum is 63.569441081995436\nthe 25000 batch sum is -138.98272122739303\nthe 26000 batch sum is 90.30144440796471\nthe 27000 batch sum is -11.559134607698603\nthe 28000 batch sum is -39.15397441542761\nthe 29000 batch sum is -65.08973610592851\nthe 30000 batch sum is 10.7308987159535\nthe 31000 batch sum is 88.61740596989037\nthe 32000 batch sum is 53.486862521067074\nthe 33000 batch sum is 142.1337019129399\nthe 34000 batch sum is -17.095791299644382\nthe 35000 batch sum is 73.49585820781301\nthe 36000 batch sum is 46.06379623766599\nthe 37000 batch sum is 87.29482593653539\nthe 38000 batch sum is -81.18322354798562\nthe 39000 batch sum is -24.607584434869583\nthe 40000 batch sum is 41.951428897195115\nthe 41000 batch sum is -96.62042582543026\nthe 42000 batch sum is 25.169673496817804\nthe 43000 batch sum is 185.00187845222453\nthe 44000 batch sum is 49.51910727381585\nthe 45000 batch sum is 56.36685232689125\nthe 46000 batch sum is -49.358009598071355\nthe 47000 batch sum is -15.784162535476268\nthe 48000 batch sum is 114.16215880723291\nthe 49000 batch sum is 146.58173421957792\nthe 50000 batch sum is -28.16332061324259\nthe 51000 batch sum is 17.170102808429874\nthe 52000 batch sum is 2.8919287715379696\nthe 53000 batch sum is -42.074894562995134\nthe 54000 batch sum is 49.27332115025991\nthe 55000 batch sum is -30.695063996740128\nthe 56000 batch sum is -19.815493405970393\nthe 57000 batch sum is 100.05153033863985\nthe 58000 batch sum is -37.47879871129355\nthe 59000 batch sum is 282.2650073947036\nthe 60000 batch sum is 7.743295134258567\nthe 61000 batch sum is 47.210357578617646\nthe 62000 batch sum is -59.481613096335266\nthe 63000 batch sum is 91.71851983667915\nthe 64000 batch sum is 36.58252097916542\nthe 65000 batch sum is -70.55677997238634\nthe 66000 batch sum is -96.81932127105065\nthe 67000 batch sum is 227.06126253273285\nthe 68000 batch sum is 27.406123152634294\nthe 69000 batch sum is 28.6129355572577\nthe 70000 batch sum is -78.32265771754817\nthe 71000 batch sum is -98.53339605649458\nthe 72000 batch sum is 76.81640691803736\nthe 73000 batch sum is 62.42387293419884\nthe 74000 batch sum is 22.37921617734151\nthe 75000 batch sum is -86.70848004914967\nthe 76000 batch sum is 33.17733740482625\nthe 77000 batch sum is 81.1831685064354\nthe 78000 batch sum is 59.17779382136651\nthe 79000 batch sum is -109.18616645325974\nthe 80000 batch sum is -238.5095114765619\nthe 81000 batch sum is -210.01523420287313\nthe 82000 batch sum is 34.1230055144118\nthe 83000 batch sum is -101.47407522189637\nthe 84000 batch sum is 67.7826403726558\nthe 85000 batch sum is 13.380342995738758\nthe 86000 batch sum is -154.96235049941893\nthe 87000 batch sum is -63.05943037667778\nthe 88000 batch sum is -15.593554238597143\nthe 89000 batch sum is 121.01865948871928\nthe 90000 batch sum is -36.33573669563896\nthe 91000 batch sum is -49.4045928131676\nthe 92000 batch sum is 1.8953368520759284\nthe 93000 batch sum is 12.345394738629096\nthe 94000 batch sum is 38.54132585395124\nthe 95000 batch sum is 42.27415417185176\nthe 96000 batch sum is -43.28532352967975\nthe 97000 batch sum is 42.687098540098894\nthe 98000 batch sum is 54.49522773192061\nthe 99000 batch sum is -101.11705927197914\n(1, 3)\n[[ 0  1  2]\n [10 11 12]\n [20 21 22]\n [30 31 32]]\n(4, 3)\n"
    }
   ],
   "source": [
    "# batch processing in numpy\n",
    "data_train = np.random.randn(100000, 2, 3)\n",
    "print(data_train.shape)\n",
    "np.random.shuffle(data_train)\n",
    "batch_size = 1000\n",
    "for i in range(0, len(data_train), batch_size):\n",
    "    x_batch_sum = np.sum(data_train[i: i + batch_size])\n",
    "    print('the {} batch sum is {}'.format(i, x_batch_sum))\n",
    "\n",
    "# numpy广播机制\n",
    "b = np.arange(0,3).reshape(1,3)\n",
    "print(b.shape)\n",
    "a = np.arange(0, 40, 10).reshape(4,1)\n",
    "c = a+ b\n",
    "print(c)\n",
    "print(c.shape)"
   ]
  },
  {
   "cell_type": "code",
   "execution_count": null,
   "metadata": {},
   "outputs": [],
   "source": []
  },
  {
   "cell_type": "code",
   "execution_count": null,
   "metadata": {},
   "outputs": [],
   "source": []
  }
 ],
 "metadata": {
  "language_info": {
   "name": "python",
   "codemirror_mode": {
    "name": "ipython",
    "version": 3
   },
   "version": "3.7.6-final"
  },
  "orig_nbformat": 2,
  "file_extension": ".py",
  "mimetype": "text/x-python",
  "name": "python",
  "npconvert_exporter": "python",
  "pygments_lexer": "ipython3",
  "version": 3,
  "kernelspec": {
   "name": "python3",
   "display_name": "Python 3"
  }
 },
 "nbformat": 4,
 "nbformat_minor": 2
}