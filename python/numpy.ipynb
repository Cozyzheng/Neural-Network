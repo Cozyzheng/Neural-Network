{
 "nbformat": 4,
 "nbformat_minor": 2,
 "metadata": {
  "language_info": {
   "name": "python",
   "codemirror_mode": {
    "name": "ipython",
    "version": 3
   },
   "version": "3.7.4-final"
  },
  "orig_nbformat": 2,
  "file_extension": ".py",
  "mimetype": "text/x-python",
  "name": "python",
  "npconvert_exporter": "python",
  "pygments_lexer": "ipython3",
  "version": 3,
  "kernelspec": {
   "name": "python37464bitbaseconda9d65e615e5564808b0fd10cb7293bc83",
   "display_name": "Python 3.7.4 64-bit ('base': conda)"
  }
 },
 "cells": [
  {
   "cell_type": "code",
   "execution_count": null,
   "metadata": {},
   "outputs": [],
   "source": [
    "import numpy as np\n",
    "\n",
    "#矩阵求逆\n",
    "from numpy import linalg as lg  \n",
    "\n",
    "# define a vector\n",
    "vector = np.array([1,2,3,4])\n",
    "\n",
    "# define a matrix\n",
    "matrix = np.array([[1,'t'], [2, 'j'], [3, 'k'], [4,'f']])\n",
    "\n",
    "print(vector, matrix)\n",
    "\n",
    "# define a vector by list \n",
    "nparray = np.array([i for i in range(10)])\n",
    "\n",
    "nparray[0] = 10 \n",
    "print(nparray)"
   ]
  },
  {
   "cell_type": "code",
   "execution_count": null,
   "metadata": {},
   "outputs": [],
   "source": [
    "a = np.zeros(10)\n",
    "print(a)\n",
    "a.dtype # default float64 \n",
    "\n",
    "np.zeros(10, dtype=int)\n",
    "\n",
    "# create n-d array with value equals 0\n",
    "np.zeros(shape = (3,4))\n",
    "\n",
    "# create n-d array with value equals 1 \n",
    "np.ones(shape = (3,4))\n",
    "\n",
    "# create n-d array with value equals k\n",
    "np.full((3,4), 128) # 自定义数组\n",
    "\n",
    "np.arange(0, 20, 2)  # 与Python中的range方法相似，arange也是前闭后开的方法\n",
    "\n",
    "np.linspace(0, 10, 5) # （前闭后闭）来对Numpy矩阵进行等分"
   ]
  },
  {
   "cell_type": "code",
   "execution_count": null,
   "metadata": {},
   "outputs": [],
   "source": [
    "# create random array \n",
    "np.random.randint(0, 10, size = 10)\n",
    "np.random.randint(0, 99, (5,5))\n",
    "np.random.seed(1)\n",
    "\n",
    "# create random array from 0 to 1\n",
    "np.random.random((5,5,5))\n",
    "\n",
    "# create random array from normal distribution\n",
    "np.random.normal(0, 1, 10)\n",
    "\n",
    "a = np.arange(15).reshape(3,5)\n",
    "print(a.shape) # return a tuple\n",
    "# a.reshape(15,-1) # row\n",
    "# a.reshape(-1,15) # column\n",
    "\n",
    "b = np.array([[1,2,3],[4,5,6],[7,8,9]])\n",
    "b[:,1] # 左闭右开\n",
    "b[0:2, 2] \n",
    "b[0, 1:3] "
   ]
  },
  {
   "cell_type": "code",
   "execution_count": null,
   "metadata": {},
   "outputs": [],
   "source": [
    "# matrix manipulation/operation\n",
    "# 矩阵运算\n",
    "myones = np.ones((3,3))\n",
    "myeye = np.eye(3) # 生成n维单位矩阵\n",
    "print(myeye)\n",
    "print(myones - myeye)\n",
    "\n",
    "mymatrix = np.array([[1,2,3],[4,5,6]])\n",
    "a = np.array([[1,2],[3,4],[5,6]])\n",
    "print(mymatrix.shape[1] == a.shape[0]) #确认第一个矩阵列数 == 第二个矩阵行数\n",
    "print(a.dot(mymatrix))\n",
    "\n",
    "a = np.array([[1,2],[3,4]]) #求逆矩阵需要 行列相等\n",
    "Inva = lg.inv(a)\n",
    "print(a.dot(Inva))\n",
    "print(Inva.dot(a).astype(int)) # 数据类型转换\n",
    "\n",
    "mymatrix\n",
    "print(mymatrix.sum(axis=0)) #简单的统计"
   ]
  },
  {
   "cell_type": "code",
   "execution_count": null,
   "metadata": {},
   "outputs": [],
   "source": [
    "# arg返回索引\n",
    "index = np.argmax([1,2,3,4,5]) \n",
    "print(index) # 从0开始噢，返回最大数字对应的索引\n",
    "\n",
    "x = np.arange(15)\n",
    "print(x)\n",
    "np.random.shuffle(x) # 注意一下这里，随机打乱\n",
    "print(x)\n",
    "# arg返回 排序（从小到大）的索引\n",
    "sx = np.argsort(x)\n",
    "print(sx)"
   ]
  },
  {
   "cell_type": "code",
   "execution_count": null,
   "metadata": {},
   "outputs": [],
   "source": [
    "# 用数组索引另一个数组，相当于使用索引值，重新创建数组\n",
    "x = np.arange(15)\n",
    "ind = np.array([[9,1,3,4],[4,5,6,7],[1,4,5,6]])\n",
    "print(x[ind])\n",
    "\n",
    "# 索引二维数组\n",
    "y = np.arange(16)\n",
    "y = y.reshape(4,-1)\n",
    "print(y)\n",
    "row = np.array([0,1,3])\n",
    "column = np.array([1,2,3])\n",
    "print('---')\n",
    "print(y[row, column]) # 取对应的点\n",
    "print(y[1:3, column]) # 取index为1，2行，对应的column点"
   ]
  },
  {
   "cell_type": "code",
   "execution_count": null,
   "metadata": {},
   "outputs": [],
   "source": [
    "import numpy as np \n",
    "from matplotlib import pyplot as plt  \n",
    "\n",
    "def sigmoid(x):\n",
    "    y = 1.0 / (1.0 + np.exp(-x))\n",
    "    return y \n",
    "# plot_x = np.linspace(-10, 10, 1000)\n",
    "# plot_y = sigmoid(plot_x)\n",
    "# plt.plot(plot_x, plot_y)\n",
    "# plt.show\n",
    "\n",
    "def logp(x):\n",
    "    y = -np.log(1 - x)\n",
    "    return y \n",
    "plot_x = np.linspace(0.00001, 1, 500)\n",
    "plot_y = logp(plot_x)\n",
    "plt.plot(plot_x, plot_y)\n",
    "plt.show()"
   ]
  },
  {
   "cell_type": "code",
   "execution_count": null,
   "metadata": {},
   "outputs": [],
   "source": [
    "print(np.linspace(0.1,1, 10))\n",
    "n = np.arange(1,24)\n",
    "n[0:1] # 左闭又开\n",
    "\n",
    "from numpy import random as nr \n",
    "a = np.arange(1,24, dtype= float)\n",
    "k = nr.choice(a, size= (3,4), replace=False, p = a/np.sum(a))\n",
    "print(k)\n",
    "\n",
    "a = np.arange(16).reshape(1, 16)\n",
    "print(a)\n",
    "print(a.squeeze())\n",
    "\n",
    "arr2 = np.arange(24).reshape(2,3,4)\n",
    "print(arr2.shape)\n",
    "print(arr2.transpose(1,2,0).shape)\n"
   ]
  },
  {
   "cell_type": "code",
   "execution_count": null,
   "metadata": {},
   "outputs": [],
   "source": [
    "# batch processing in numpy\n",
    "data_train = np.random.randn(100000, 2, 3)\n",
    "print(data_train.shape)\n",
    "np.random.shuffle(data_train)\n",
    "batch_size = 1000\n",
    "for i in range(0, len(data_train), batch_size):\n",
    "    x_batch_sum = np.sum(data_train[i: i + batch_size])\n",
    "    print('the {} batch sum is {}'.format(i, x_batch_sum))\n",
    "\n",
    "# numpy广播机制\n",
    "b = np.arange(0,3).reshape(1,3)\n",
    "print(b.shape)\n",
    "a = np.arange(0, 40, 10).reshape(4,1)\n",
    "c = a+ b\n",
    "print(c)\n",
    "print(c.shape)"
   ]
  },
  {
   "cell_type": "code",
   "execution_count": null,
   "metadata": {},
   "outputs": [],
   "source": []
  },
  {
   "cell_type": "code",
   "execution_count": null,
   "metadata": {},
   "outputs": [],
   "source": []
  }
 ]
}