{
 "nbformat": 4,
 "nbformat_minor": 2,
 "metadata": {
  "language_info": {
   "name": "python",
   "codemirror_mode": {
    "name": "ipython",
    "version": 3
   },
   "version": "3.7.4-final"
  },
  "orig_nbformat": 2,
  "file_extension": ".py",
  "mimetype": "text/x-python",
  "name": "python",
  "npconvert_exporter": "python",
  "pygments_lexer": "ipython3",
  "version": 3,
  "kernelspec": {
   "name": "python37464bitbaseconda9d65e615e5564808b0fd10cb7293bc83",
   "display_name": "Python 3.7.4 64-bit ('base': conda)"
  }
 },
 "cells": [
  {
   "cell_type": "code",
   "execution_count": 66,
   "metadata": {},
   "outputs": [
    {
     "name": "stdout",
     "output_type": "stream",
     "text": "[1 2 3 4] [['1' 't']\n ['2' 'j']\n ['3' 'k']\n ['4' 'f']]\n[10  1  2  3  4  5  6  7  8  9]\n"
    }
   ],
   "source": [
    "import numpy as np\n",
    "\n",
    "#矩阵求逆\n",
    "from numpy import linalg as lg  \n",
    "# define a vector\n",
    "vector = np.array([1,2,3,4])\n",
    "\n",
    "# define a matrix\n",
    "matrix = np.array([[1,'t'], [2, 'j'], [3, 'k'], [4,'f']])\n",
    "\n",
    "print(vector, matrix)\n",
    "\n",
    "# define a vector by list \n",
    "nparray = np.array([i for i in range(10)])\n",
    "\n",
    "nparray[0] = 10 \n",
    "print(nparray)"
   ]
  },
  {
   "cell_type": "code",
   "execution_count": 30,
   "metadata": {},
   "outputs": [
    {
     "name": "stdout",
     "output_type": "stream",
     "text": "[0. 0. 0. 0. 0. 0. 0. 0. 0. 0.]\n"
    },
    {
     "data": {
      "text/plain": "array([ 0. ,  2.5,  5. ,  7.5, 10. ])"
     },
     "execution_count": 30,
     "metadata": {},
     "output_type": "execute_result"
    }
   ],
   "source": [
    "a = np.zeros(10)\n",
    "print(a)\n",
    "a.dtype # float64 \n",
    "\n",
    "np.zeros(10, dtype=int)\n",
    "\n",
    "# create n-d array with value equals 0\n",
    "np.zeros(shape = (3,4))\n",
    "\n",
    "# create n-d array with value equals 1 \n",
    "np.ones(shape = (3,4))\n",
    "\n",
    "# create n-d array with value equals k\n",
    "np.full((3,4), 128)\n",
    "\n",
    "np.arange(0, 20, 2)  # 与Python中的range方法相似，arange也是前闭后开的方法\n",
    "\n",
    "np.linspace(0, 10, 5) # （前闭后闭）来对Numpy矩阵进行等分"
   ]
  },
  {
   "cell_type": "code",
   "execution_count": 56,
   "metadata": {},
   "outputs": [
    {
     "name": "stdout",
     "output_type": "stream",
     "text": "(3, 5)\n"
    },
    {
     "data": {
      "text/plain": "array([2, 3])"
     },
     "execution_count": 56,
     "metadata": {},
     "output_type": "execute_result"
    }
   ],
   "source": [
    "# create random array \n",
    "np.random.randint(0, 10, size = 10)\n",
    "np.random.randint(0, 99, (5,5))\n",
    "np.random.seed(1)\n",
    "\n",
    "# create random array from 0 to 1\n",
    "np.random.random((5,5,5))\n",
    "\n",
    "# create random array from normal distribution\n",
    "np.random.normal(0, 1, 10)\n",
    "\n",
    "a = np.arange(15).reshape(3,5)\n",
    "print(a.shape) # return a tuple\n",
    "# a.reshape(15,-1) # row\n",
    "# a.reshape(-1,15) # column\n",
    "\n",
    "b = np.array([[1,2,3],[4,5,6],[7,8,9]])\n",
    "b[:,1] # 左闭右开\n",
    "b[0:2, 2] \n",
    "b[0, 1:3] "
   ]
  },
  {
   "cell_type": "code",
   "execution_count": 71,
   "metadata": {},
   "outputs": [
    {
     "name": "stdout",
     "output_type": "stream",
     "text": "[[1. 0. 0.]\n [0. 1. 0.]\n [0. 0. 1.]]\n[[0. 1. 1.]\n [1. 0. 1.]\n [1. 1. 0.]]\nTrue\n[[ 9 12 15]\n [19 26 33]\n [29 40 51]]\n[[1.00000000e+00 1.11022302e-16]\n [0.00000000e+00 1.00000000e+00]]\n[[1 0]\n [0 0]]\n"
    }
   ],
   "source": [
    "# matrix manipulation/operation\n",
    "# 矩阵运算\n",
    "myones = np.ones((3,3))\n",
    "myeye = np.eye(3)\n",
    "print(myeye)\n",
    "print(myones - myeye)\n",
    "\n",
    "mymatrix = np.array([[1,2,3],[4,5,6]])\n",
    "a = np.array([[1,2],[3,4],[5,6]])\n",
    "print(mymatrix.shape[1] == a.shape[0]) #确认第一个矩阵列数 == 第二个矩阵行数\n",
    "print(a.dot(mymatrix))\n",
    "\n",
    "a = np.array([[1,2],[3,4]]) #求逆矩阵需要 行列相等\n",
    "Inva = lg.inv(a)\n",
    "print(a.dot(Inva))\n",
    "print(Inva.dot(a).astype(int)) # 数据类型转换\n",
    "\n",
    "mymatrix\n",
    "print(mymatrix.sum(axis=0))"
   ]
  },
  {
   "cell_type": "code",
   "execution_count": 90,
   "metadata": {},
   "outputs": [
    {
     "name": "stdout",
     "output_type": "stream",
     "text": "4\n[ 0  1  2  3  4  5  6  7  8  9 10 11 12 13 14]\n[ 2 11  9 12  1 14 13  6  0 10  8  3  5  7  4]\n[ 8  4  0 11 14 12  7 13 10  2  9  1  3  6  5]\n"
    }
   ],
   "source": [
    "# arg返回索引\n",
    "index = np.argmax([1,2,3,4,5]) \n",
    "print(index) # 从0开始噢\n",
    "\n",
    "x = np.arange(15)\n",
    "print(x)\n",
    "np.random.shuffle(x) # 注意一下这里\n",
    "print(x)\n",
    "# arg返回对于排序（从小到大）的索引\n",
    "sx = np.argsort(x)\n",
    "print(sx)"
   ]
  },
  {
   "cell_type": "code",
   "execution_count": 104,
   "metadata": {},
   "outputs": [
    {
     "name": "stdout",
     "output_type": "stream",
     "text": "[[9 1 3 4]\n [4 5 6 7]\n [1 4 5 6]]\n[[ 0  1  2  3]\n [ 4  5  6  7]\n [ 8  9 10 11]\n [12 13 14 15]]\n---\n[ 1  6 15]\n[[ 5  6  7]\n [ 9 10 11]]\n"
    }
   ],
   "source": [
    "# 用数组索引另一个数组\n",
    "x = np.arange(15)\n",
    "ind = np.array([[9,1,3,4],[4,5,6,7],[1,4,5,6]])\n",
    "print(x[ind])\n",
    "\n",
    "# 索引二维数组\n",
    "y = np.arange(16)\n",
    "y = y.reshape(4,-1)\n",
    "print(y)\n",
    "row = np.array([0,1,3])\n",
    "column = np.array([1,2,3])\n",
    "print('---')\n",
    "print(y[row, column]) # 取对应的点\n",
    "print(y[1:3, column]) # 取index为1，2行，对应的column点"
   ]
  }
 ]
}